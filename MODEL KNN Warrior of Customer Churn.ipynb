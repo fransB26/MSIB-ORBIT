{
  "nbformat": 4,
  "nbformat_minor": 0,
  "metadata": {
    "colab": {
      "name": "KNN Warrior of Customer Churn.ipynb",
      "provenance": [],
      "collapsed_sections": [],
      "include_colab_link": true
    },
    "kernelspec": {
      "name": "python3",
      "display_name": "Python 3"
    },
    "language_info": {
      "name": "python"
    }
  },
  "cells": [
    {
      "cell_type": "markdown",
      "metadata": {
        "id": "view-in-github",
        "colab_type": "text"
      },
      "source": [
        "<a href=\"https://colab.research.google.com/github/fransB26/MSIB-ORBIT/blob/main/MODEL%20KNN%20Warrior%20of%20Customer%20Churn.ipynb\" target=\"_parent\"><img src=\"https://colab.research.google.com/assets/colab-badge.svg\" alt=\"Open In Colab\"/></a>"
      ]
    },
    {
      "cell_type": "markdown",
      "source": [
        "**1 PROBLEM** **SCOPING**"
      ],
      "metadata": {
        "id": "D6M2XyuGVA0P"
      }
    },
    {
      "cell_type": "markdown",
      "source": [
        "**STUDI KASUS**\n",
        "\n",
        "Terdapat dataset konsumen dengan **2 kategori churn**, yaitu **pelanggan aktif (0) dan pelanggan yang sudah berhenti (1)**"
      ],
      "metadata": {
        "id": "UCHKtVh746F8"
      }
    },
    {
      "cell_type": "markdown",
      "source": [
        "\n",
        "\n",
        "---\n",
        "\n"
      ],
      "metadata": {
        "id": "lbkV50qp5uxR"
      }
    },
    {
      "cell_type": "markdown",
      "source": [
        "**KLASIFIKASI KONSUMEN**\n",
        "\n",
        "**Memanggil Library**"
      ],
      "metadata": {
        "id": "Fiz4uWp35woD"
      }
    },
    {
      "cell_type": "code",
      "execution_count": 1,
      "metadata": {
        "id": "OMqtsfYEUF_a"
      },
      "outputs": [],
      "source": [
        "# import libraries\n",
        "import pandas as pd\n",
        "import itertools\n",
        "import numpy as np\n",
        "import matplotlib.pyplot as plt\n",
        "from sklearn import preprocessing\n",
        "from scipy import stats\n",
        "from sklearn.neighbors import KNeighborsClassifier\n",
        "from sklearn import metrics\n",
        "\n",
        "%matplotlib inline"
      ]
    },
    {
      "cell_type": "markdown",
      "source": [
        "**2. DATA AKUISISI**"
      ],
      "metadata": {
        "id": "hKocNUOUVPP3"
      }
    },
    {
      "cell_type": "markdown",
      "source": [
        "**Load Dataset**\n",
        "\n",
        "sumber dataset : http://buku.dioskurn.com/buku1/ch9"
      ],
      "metadata": {
        "id": "2jwuJ9ho-8d5"
      }
    },
    {
      "cell_type": "code",
      "source": [
        "df = pd.read_csv('http://buku.dioskurn.com/buku1/ch9/churnprediction_ch9.csv', index_col=['customer_id'])\n",
        "df"
      ],
      "metadata": {
        "colab": {
          "base_uri": "https://localhost:8080/",
          "height": 519
        },
        "id": "JEcHI2Njw75K",
        "outputId": "f8199ba5-3187-4780-a1e5-a82f0b97a280"
      },
      "execution_count": 2,
      "outputs": [
        {
          "output_type": "execute_result",
          "data": {
            "text/plain": [
              "                                  product  reload_1  reload_2    video  \\\n",
              "customer_id                                                              \n",
              "285fae8412c4720a0c79d95f98434422  Kartu A  27734.30  24381.32  22000.0   \n",
              "f45bce87ca6bf100f222fcc0db06b624  Kartu A  26433.00  26515.50      0.0   \n",
              "09b54557b1e2a10d998e3473a9ccd2a0  Kartu A  93212.17  67101.83      0.0   \n",
              "11f252f48be36f93dd429f2ec86cb2f5  Kartu A    183.33   1087.17      0.0   \n",
              "a8df29ae9195eea348d2f74c967b978d  Kartu A  95296.67  76246.50      0.0   \n",
              "...                                   ...       ...       ...      ...   \n",
              "9e8b318d96caa9c0c4a50e8e59f5026c  Kartu B   1634.33  12085.33      0.0   \n",
              "a310627191bdbded3905ac73e77fe319  Kartu B  30000.33  45170.67      0.0   \n",
              "b6f11059e5c1df69b8c16d5c39af23dc  Kartu B   3333.33  13338.67      0.0   \n",
              "88709f1defd232243f729912be696f87  Kartu B  25000.00  33333.33      0.0   \n",
              "2c5bc32bc9a9c393d393bfc11c409b0d  Kartu C      0.00  11084.00      0.0   \n",
              "\n",
              "                                    music     games    chat_1    chat_2  \\\n",
              "customer_id                                                               \n",
              "285fae8412c4720a0c79d95f98434422  33009.9  25669.97    1716.0    2145.0   \n",
              "f45bce87ca6bf100f222fcc0db06b624      0.0      0.00       0.0   15444.0   \n",
              "09b54557b1e2a10d998e3473a9ccd2a0      0.0      0.00   86795.5   94649.5   \n",
              "11f252f48be36f93dd429f2ec86cb2f5      0.0      0.00       0.0       0.0   \n",
              "a8df29ae9195eea348d2f74c967b978d      0.0  11000.00  118800.0  104940.0   \n",
              "...                                   ...       ...       ...       ...   \n",
              "9e8b318d96caa9c0c4a50e8e59f5026c      0.0      0.00       0.0       0.0   \n",
              "a310627191bdbded3905ac73e77fe319      0.0      0.00       0.0   20001.0   \n",
              "b6f11059e5c1df69b8c16d5c39af23dc      0.0    872.00       0.0       0.0   \n",
              "88709f1defd232243f729912be696f87      0.0  23497.33       0.0       0.0   \n",
              "2c5bc32bc9a9c393d393bfc11c409b0d      0.0      0.00       0.0       0.0   \n",
              "\n",
              "                                  socmed_1  socmed_2  internet  days_active  \\\n",
              "customer_id                                                                   \n",
              "285fae8412c4720a0c79d95f98434422       0.0     792.0   11000.0           15   \n",
              "f45bce87ca6bf100f222fcc0db06b624       0.0       0.0   74151.0           13   \n",
              "09b54557b1e2a10d998e3473a9ccd2a0     330.0    1485.0   27467.0           15   \n",
              "11f252f48be36f93dd429f2ec86cb2f5       0.0       0.0       0.0            2   \n",
              "a8df29ae9195eea348d2f74c967b978d       0.0       0.0   63855.0           15   \n",
              "...                                    ...       ...       ...          ...   \n",
              "9e8b318d96caa9c0c4a50e8e59f5026c       0.0       0.0       0.0            1   \n",
              "a310627191bdbded3905ac73e77fe319       0.0       0.0       0.0            1   \n",
              "b6f11059e5c1df69b8c16d5c39af23dc       0.0       0.0       0.0            1   \n",
              "88709f1defd232243f729912be696f87       0.0       0.0       0.0           15   \n",
              "2c5bc32bc9a9c393d393bfc11c409b0d       0.0       0.0       0.0            1   \n",
              "\n",
              "                                  tenure  churn  \n",
              "customer_id                                      \n",
              "285fae8412c4720a0c79d95f98434422     776      0  \n",
              "f45bce87ca6bf100f222fcc0db06b624     352      0  \n",
              "09b54557b1e2a10d998e3473a9ccd2a0    1987      0  \n",
              "11f252f48be36f93dd429f2ec86cb2f5     285      0  \n",
              "a8df29ae9195eea348d2f74c967b978d    1081      0  \n",
              "...                                  ...    ...  \n",
              "9e8b318d96caa9c0c4a50e8e59f5026c     490      1  \n",
              "a310627191bdbded3905ac73e77fe319    3120      1  \n",
              "b6f11059e5c1df69b8c16d5c39af23dc     483      1  \n",
              "88709f1defd232243f729912be696f87     786      1  \n",
              "2c5bc32bc9a9c393d393bfc11c409b0d     222      1  \n",
              "\n",
              "[10000 rows x 14 columns]"
            ],
            "text/html": [
              "\n",
              "  <div id=\"df-66ab84d8-540d-424f-99cf-0a0f8ef91111\">\n",
              "    <div class=\"colab-df-container\">\n",
              "      <div>\n",
              "<style scoped>\n",
              "    .dataframe tbody tr th:only-of-type {\n",
              "        vertical-align: middle;\n",
              "    }\n",
              "\n",
              "    .dataframe tbody tr th {\n",
              "        vertical-align: top;\n",
              "    }\n",
              "\n",
              "    .dataframe thead th {\n",
              "        text-align: right;\n",
              "    }\n",
              "</style>\n",
              "<table border=\"1\" class=\"dataframe\">\n",
              "  <thead>\n",
              "    <tr style=\"text-align: right;\">\n",
              "      <th></th>\n",
              "      <th>product</th>\n",
              "      <th>reload_1</th>\n",
              "      <th>reload_2</th>\n",
              "      <th>video</th>\n",
              "      <th>music</th>\n",
              "      <th>games</th>\n",
              "      <th>chat_1</th>\n",
              "      <th>chat_2</th>\n",
              "      <th>socmed_1</th>\n",
              "      <th>socmed_2</th>\n",
              "      <th>internet</th>\n",
              "      <th>days_active</th>\n",
              "      <th>tenure</th>\n",
              "      <th>churn</th>\n",
              "    </tr>\n",
              "    <tr>\n",
              "      <th>customer_id</th>\n",
              "      <th></th>\n",
              "      <th></th>\n",
              "      <th></th>\n",
              "      <th></th>\n",
              "      <th></th>\n",
              "      <th></th>\n",
              "      <th></th>\n",
              "      <th></th>\n",
              "      <th></th>\n",
              "      <th></th>\n",
              "      <th></th>\n",
              "      <th></th>\n",
              "      <th></th>\n",
              "      <th></th>\n",
              "    </tr>\n",
              "  </thead>\n",
              "  <tbody>\n",
              "    <tr>\n",
              "      <th>285fae8412c4720a0c79d95f98434422</th>\n",
              "      <td>Kartu A</td>\n",
              "      <td>27734.30</td>\n",
              "      <td>24381.32</td>\n",
              "      <td>22000.0</td>\n",
              "      <td>33009.9</td>\n",
              "      <td>25669.97</td>\n",
              "      <td>1716.0</td>\n",
              "      <td>2145.0</td>\n",
              "      <td>0.0</td>\n",
              "      <td>792.0</td>\n",
              "      <td>11000.0</td>\n",
              "      <td>15</td>\n",
              "      <td>776</td>\n",
              "      <td>0</td>\n",
              "    </tr>\n",
              "    <tr>\n",
              "      <th>f45bce87ca6bf100f222fcc0db06b624</th>\n",
              "      <td>Kartu A</td>\n",
              "      <td>26433.00</td>\n",
              "      <td>26515.50</td>\n",
              "      <td>0.0</td>\n",
              "      <td>0.0</td>\n",
              "      <td>0.00</td>\n",
              "      <td>0.0</td>\n",
              "      <td>15444.0</td>\n",
              "      <td>0.0</td>\n",
              "      <td>0.0</td>\n",
              "      <td>74151.0</td>\n",
              "      <td>13</td>\n",
              "      <td>352</td>\n",
              "      <td>0</td>\n",
              "    </tr>\n",
              "    <tr>\n",
              "      <th>09b54557b1e2a10d998e3473a9ccd2a0</th>\n",
              "      <td>Kartu A</td>\n",
              "      <td>93212.17</td>\n",
              "      <td>67101.83</td>\n",
              "      <td>0.0</td>\n",
              "      <td>0.0</td>\n",
              "      <td>0.00</td>\n",
              "      <td>86795.5</td>\n",
              "      <td>94649.5</td>\n",
              "      <td>330.0</td>\n",
              "      <td>1485.0</td>\n",
              "      <td>27467.0</td>\n",
              "      <td>15</td>\n",
              "      <td>1987</td>\n",
              "      <td>0</td>\n",
              "    </tr>\n",
              "    <tr>\n",
              "      <th>11f252f48be36f93dd429f2ec86cb2f5</th>\n",
              "      <td>Kartu A</td>\n",
              "      <td>183.33</td>\n",
              "      <td>1087.17</td>\n",
              "      <td>0.0</td>\n",
              "      <td>0.0</td>\n",
              "      <td>0.00</td>\n",
              "      <td>0.0</td>\n",
              "      <td>0.0</td>\n",
              "      <td>0.0</td>\n",
              "      <td>0.0</td>\n",
              "      <td>0.0</td>\n",
              "      <td>2</td>\n",
              "      <td>285</td>\n",
              "      <td>0</td>\n",
              "    </tr>\n",
              "    <tr>\n",
              "      <th>a8df29ae9195eea348d2f74c967b978d</th>\n",
              "      <td>Kartu A</td>\n",
              "      <td>95296.67</td>\n",
              "      <td>76246.50</td>\n",
              "      <td>0.0</td>\n",
              "      <td>0.0</td>\n",
              "      <td>11000.00</td>\n",
              "      <td>118800.0</td>\n",
              "      <td>104940.0</td>\n",
              "      <td>0.0</td>\n",
              "      <td>0.0</td>\n",
              "      <td>63855.0</td>\n",
              "      <td>15</td>\n",
              "      <td>1081</td>\n",
              "      <td>0</td>\n",
              "    </tr>\n",
              "    <tr>\n",
              "      <th>...</th>\n",
              "      <td>...</td>\n",
              "      <td>...</td>\n",
              "      <td>...</td>\n",
              "      <td>...</td>\n",
              "      <td>...</td>\n",
              "      <td>...</td>\n",
              "      <td>...</td>\n",
              "      <td>...</td>\n",
              "      <td>...</td>\n",
              "      <td>...</td>\n",
              "      <td>...</td>\n",
              "      <td>...</td>\n",
              "      <td>...</td>\n",
              "      <td>...</td>\n",
              "    </tr>\n",
              "    <tr>\n",
              "      <th>9e8b318d96caa9c0c4a50e8e59f5026c</th>\n",
              "      <td>Kartu B</td>\n",
              "      <td>1634.33</td>\n",
              "      <td>12085.33</td>\n",
              "      <td>0.0</td>\n",
              "      <td>0.0</td>\n",
              "      <td>0.00</td>\n",
              "      <td>0.0</td>\n",
              "      <td>0.0</td>\n",
              "      <td>0.0</td>\n",
              "      <td>0.0</td>\n",
              "      <td>0.0</td>\n",
              "      <td>1</td>\n",
              "      <td>490</td>\n",
              "      <td>1</td>\n",
              "    </tr>\n",
              "    <tr>\n",
              "      <th>a310627191bdbded3905ac73e77fe319</th>\n",
              "      <td>Kartu B</td>\n",
              "      <td>30000.33</td>\n",
              "      <td>45170.67</td>\n",
              "      <td>0.0</td>\n",
              "      <td>0.0</td>\n",
              "      <td>0.00</td>\n",
              "      <td>0.0</td>\n",
              "      <td>20001.0</td>\n",
              "      <td>0.0</td>\n",
              "      <td>0.0</td>\n",
              "      <td>0.0</td>\n",
              "      <td>1</td>\n",
              "      <td>3120</td>\n",
              "      <td>1</td>\n",
              "    </tr>\n",
              "    <tr>\n",
              "      <th>b6f11059e5c1df69b8c16d5c39af23dc</th>\n",
              "      <td>Kartu B</td>\n",
              "      <td>3333.33</td>\n",
              "      <td>13338.67</td>\n",
              "      <td>0.0</td>\n",
              "      <td>0.0</td>\n",
              "      <td>872.00</td>\n",
              "      <td>0.0</td>\n",
              "      <td>0.0</td>\n",
              "      <td>0.0</td>\n",
              "      <td>0.0</td>\n",
              "      <td>0.0</td>\n",
              "      <td>1</td>\n",
              "      <td>483</td>\n",
              "      <td>1</td>\n",
              "    </tr>\n",
              "    <tr>\n",
              "      <th>88709f1defd232243f729912be696f87</th>\n",
              "      <td>Kartu B</td>\n",
              "      <td>25000.00</td>\n",
              "      <td>33333.33</td>\n",
              "      <td>0.0</td>\n",
              "      <td>0.0</td>\n",
              "      <td>23497.33</td>\n",
              "      <td>0.0</td>\n",
              "      <td>0.0</td>\n",
              "      <td>0.0</td>\n",
              "      <td>0.0</td>\n",
              "      <td>0.0</td>\n",
              "      <td>15</td>\n",
              "      <td>786</td>\n",
              "      <td>1</td>\n",
              "    </tr>\n",
              "    <tr>\n",
              "      <th>2c5bc32bc9a9c393d393bfc11c409b0d</th>\n",
              "      <td>Kartu C</td>\n",
              "      <td>0.00</td>\n",
              "      <td>11084.00</td>\n",
              "      <td>0.0</td>\n",
              "      <td>0.0</td>\n",
              "      <td>0.00</td>\n",
              "      <td>0.0</td>\n",
              "      <td>0.0</td>\n",
              "      <td>0.0</td>\n",
              "      <td>0.0</td>\n",
              "      <td>0.0</td>\n",
              "      <td>1</td>\n",
              "      <td>222</td>\n",
              "      <td>1</td>\n",
              "    </tr>\n",
              "  </tbody>\n",
              "</table>\n",
              "<p>10000 rows × 14 columns</p>\n",
              "</div>\n",
              "      <button class=\"colab-df-convert\" onclick=\"convertToInteractive('df-66ab84d8-540d-424f-99cf-0a0f8ef91111')\"\n",
              "              title=\"Convert this dataframe to an interactive table.\"\n",
              "              style=\"display:none;\">\n",
              "        \n",
              "  <svg xmlns=\"http://www.w3.org/2000/svg\" height=\"24px\"viewBox=\"0 0 24 24\"\n",
              "       width=\"24px\">\n",
              "    <path d=\"M0 0h24v24H0V0z\" fill=\"none\"/>\n",
              "    <path d=\"M18.56 5.44l.94 2.06.94-2.06 2.06-.94-2.06-.94-.94-2.06-.94 2.06-2.06.94zm-11 1L8.5 8.5l.94-2.06 2.06-.94-2.06-.94L8.5 2.5l-.94 2.06-2.06.94zm10 10l.94 2.06.94-2.06 2.06-.94-2.06-.94-.94-2.06-.94 2.06-2.06.94z\"/><path d=\"M17.41 7.96l-1.37-1.37c-.4-.4-.92-.59-1.43-.59-.52 0-1.04.2-1.43.59L10.3 9.45l-7.72 7.72c-.78.78-.78 2.05 0 2.83L4 21.41c.39.39.9.59 1.41.59.51 0 1.02-.2 1.41-.59l7.78-7.78 2.81-2.81c.8-.78.8-2.07 0-2.86zM5.41 20L4 18.59l7.72-7.72 1.47 1.35L5.41 20z\"/>\n",
              "  </svg>\n",
              "      </button>\n",
              "      \n",
              "  <style>\n",
              "    .colab-df-container {\n",
              "      display:flex;\n",
              "      flex-wrap:wrap;\n",
              "      gap: 12px;\n",
              "    }\n",
              "\n",
              "    .colab-df-convert {\n",
              "      background-color: #E8F0FE;\n",
              "      border: none;\n",
              "      border-radius: 50%;\n",
              "      cursor: pointer;\n",
              "      display: none;\n",
              "      fill: #1967D2;\n",
              "      height: 32px;\n",
              "      padding: 0 0 0 0;\n",
              "      width: 32px;\n",
              "    }\n",
              "\n",
              "    .colab-df-convert:hover {\n",
              "      background-color: #E2EBFA;\n",
              "      box-shadow: 0px 1px 2px rgba(60, 64, 67, 0.3), 0px 1px 3px 1px rgba(60, 64, 67, 0.15);\n",
              "      fill: #174EA6;\n",
              "    }\n",
              "\n",
              "    [theme=dark] .colab-df-convert {\n",
              "      background-color: #3B4455;\n",
              "      fill: #D2E3FC;\n",
              "    }\n",
              "\n",
              "    [theme=dark] .colab-df-convert:hover {\n",
              "      background-color: #434B5C;\n",
              "      box-shadow: 0px 1px 3px 1px rgba(0, 0, 0, 0.15);\n",
              "      filter: drop-shadow(0px 1px 2px rgba(0, 0, 0, 0.3));\n",
              "      fill: #FFFFFF;\n",
              "    }\n",
              "  </style>\n",
              "\n",
              "      <script>\n",
              "        const buttonEl =\n",
              "          document.querySelector('#df-66ab84d8-540d-424f-99cf-0a0f8ef91111 button.colab-df-convert');\n",
              "        buttonEl.style.display =\n",
              "          google.colab.kernel.accessAllowed ? 'block' : 'none';\n",
              "\n",
              "        async function convertToInteractive(key) {\n",
              "          const element = document.querySelector('#df-66ab84d8-540d-424f-99cf-0a0f8ef91111');\n",
              "          const dataTable =\n",
              "            await google.colab.kernel.invokeFunction('convertToInteractive',\n",
              "                                                     [key], {});\n",
              "          if (!dataTable) return;\n",
              "\n",
              "          const docLinkHtml = 'Like what you see? Visit the ' +\n",
              "            '<a target=\"_blank\" href=https://colab.research.google.com/notebooks/data_table.ipynb>data table notebook</a>'\n",
              "            + ' to learn more about interactive tables.';\n",
              "          element.innerHTML = '';\n",
              "          dataTable['output_type'] = 'display_data';\n",
              "          await google.colab.output.renderOutput(dataTable, element);\n",
              "          const docLink = document.createElement('div');\n",
              "          docLink.innerHTML = docLinkHtml;\n",
              "          element.appendChild(docLink);\n",
              "        }\n",
              "      </script>\n",
              "    </div>\n",
              "  </div>\n",
              "  "
            ]
          },
          "metadata": {},
          "execution_count": 2
        }
      ]
    },
    {
      "cell_type": "code",
      "source": [
        "# Pada product, nilai atribut Kartu A didefinisikan sebagai 0, Kartu B didefinisikan sebagai 1, dan Kartu C didefinisikan sebagai 2\n",
        "df['product'] = df['product'].map({'Kartu A': 0,'Kartu B': 1, 'Kartu C':2})\n",
        "df['product'].value_counts()\n",
        "df"
      ],
      "metadata": {
        "colab": {
          "base_uri": "https://localhost:8080/",
          "height": 519
        },
        "id": "-6yAssmvxJ1k",
        "outputId": "5e39b629-5b22-4973-8071-72af839267a7"
      },
      "execution_count": 3,
      "outputs": [
        {
          "output_type": "execute_result",
          "data": {
            "text/plain": [
              "                                  product  reload_1  reload_2    video  \\\n",
              "customer_id                                                              \n",
              "285fae8412c4720a0c79d95f98434422        0  27734.30  24381.32  22000.0   \n",
              "f45bce87ca6bf100f222fcc0db06b624        0  26433.00  26515.50      0.0   \n",
              "09b54557b1e2a10d998e3473a9ccd2a0        0  93212.17  67101.83      0.0   \n",
              "11f252f48be36f93dd429f2ec86cb2f5        0    183.33   1087.17      0.0   \n",
              "a8df29ae9195eea348d2f74c967b978d        0  95296.67  76246.50      0.0   \n",
              "...                                   ...       ...       ...      ...   \n",
              "9e8b318d96caa9c0c4a50e8e59f5026c        1   1634.33  12085.33      0.0   \n",
              "a310627191bdbded3905ac73e77fe319        1  30000.33  45170.67      0.0   \n",
              "b6f11059e5c1df69b8c16d5c39af23dc        1   3333.33  13338.67      0.0   \n",
              "88709f1defd232243f729912be696f87        1  25000.00  33333.33      0.0   \n",
              "2c5bc32bc9a9c393d393bfc11c409b0d        2      0.00  11084.00      0.0   \n",
              "\n",
              "                                    music     games    chat_1    chat_2  \\\n",
              "customer_id                                                               \n",
              "285fae8412c4720a0c79d95f98434422  33009.9  25669.97    1716.0    2145.0   \n",
              "f45bce87ca6bf100f222fcc0db06b624      0.0      0.00       0.0   15444.0   \n",
              "09b54557b1e2a10d998e3473a9ccd2a0      0.0      0.00   86795.5   94649.5   \n",
              "11f252f48be36f93dd429f2ec86cb2f5      0.0      0.00       0.0       0.0   \n",
              "a8df29ae9195eea348d2f74c967b978d      0.0  11000.00  118800.0  104940.0   \n",
              "...                                   ...       ...       ...       ...   \n",
              "9e8b318d96caa9c0c4a50e8e59f5026c      0.0      0.00       0.0       0.0   \n",
              "a310627191bdbded3905ac73e77fe319      0.0      0.00       0.0   20001.0   \n",
              "b6f11059e5c1df69b8c16d5c39af23dc      0.0    872.00       0.0       0.0   \n",
              "88709f1defd232243f729912be696f87      0.0  23497.33       0.0       0.0   \n",
              "2c5bc32bc9a9c393d393bfc11c409b0d      0.0      0.00       0.0       0.0   \n",
              "\n",
              "                                  socmed_1  socmed_2  internet  days_active  \\\n",
              "customer_id                                                                   \n",
              "285fae8412c4720a0c79d95f98434422       0.0     792.0   11000.0           15   \n",
              "f45bce87ca6bf100f222fcc0db06b624       0.0       0.0   74151.0           13   \n",
              "09b54557b1e2a10d998e3473a9ccd2a0     330.0    1485.0   27467.0           15   \n",
              "11f252f48be36f93dd429f2ec86cb2f5       0.0       0.0       0.0            2   \n",
              "a8df29ae9195eea348d2f74c967b978d       0.0       0.0   63855.0           15   \n",
              "...                                    ...       ...       ...          ...   \n",
              "9e8b318d96caa9c0c4a50e8e59f5026c       0.0       0.0       0.0            1   \n",
              "a310627191bdbded3905ac73e77fe319       0.0       0.0       0.0            1   \n",
              "b6f11059e5c1df69b8c16d5c39af23dc       0.0       0.0       0.0            1   \n",
              "88709f1defd232243f729912be696f87       0.0       0.0       0.0           15   \n",
              "2c5bc32bc9a9c393d393bfc11c409b0d       0.0       0.0       0.0            1   \n",
              "\n",
              "                                  tenure  churn  \n",
              "customer_id                                      \n",
              "285fae8412c4720a0c79d95f98434422     776      0  \n",
              "f45bce87ca6bf100f222fcc0db06b624     352      0  \n",
              "09b54557b1e2a10d998e3473a9ccd2a0    1987      0  \n",
              "11f252f48be36f93dd429f2ec86cb2f5     285      0  \n",
              "a8df29ae9195eea348d2f74c967b978d    1081      0  \n",
              "...                                  ...    ...  \n",
              "9e8b318d96caa9c0c4a50e8e59f5026c     490      1  \n",
              "a310627191bdbded3905ac73e77fe319    3120      1  \n",
              "b6f11059e5c1df69b8c16d5c39af23dc     483      1  \n",
              "88709f1defd232243f729912be696f87     786      1  \n",
              "2c5bc32bc9a9c393d393bfc11c409b0d     222      1  \n",
              "\n",
              "[10000 rows x 14 columns]"
            ],
            "text/html": [
              "\n",
              "  <div id=\"df-e6d1a124-eacd-4f17-abdc-67f3cce9ba18\">\n",
              "    <div class=\"colab-df-container\">\n",
              "      <div>\n",
              "<style scoped>\n",
              "    .dataframe tbody tr th:only-of-type {\n",
              "        vertical-align: middle;\n",
              "    }\n",
              "\n",
              "    .dataframe tbody tr th {\n",
              "        vertical-align: top;\n",
              "    }\n",
              "\n",
              "    .dataframe thead th {\n",
              "        text-align: right;\n",
              "    }\n",
              "</style>\n",
              "<table border=\"1\" class=\"dataframe\">\n",
              "  <thead>\n",
              "    <tr style=\"text-align: right;\">\n",
              "      <th></th>\n",
              "      <th>product</th>\n",
              "      <th>reload_1</th>\n",
              "      <th>reload_2</th>\n",
              "      <th>video</th>\n",
              "      <th>music</th>\n",
              "      <th>games</th>\n",
              "      <th>chat_1</th>\n",
              "      <th>chat_2</th>\n",
              "      <th>socmed_1</th>\n",
              "      <th>socmed_2</th>\n",
              "      <th>internet</th>\n",
              "      <th>days_active</th>\n",
              "      <th>tenure</th>\n",
              "      <th>churn</th>\n",
              "    </tr>\n",
              "    <tr>\n",
              "      <th>customer_id</th>\n",
              "      <th></th>\n",
              "      <th></th>\n",
              "      <th></th>\n",
              "      <th></th>\n",
              "      <th></th>\n",
              "      <th></th>\n",
              "      <th></th>\n",
              "      <th></th>\n",
              "      <th></th>\n",
              "      <th></th>\n",
              "      <th></th>\n",
              "      <th></th>\n",
              "      <th></th>\n",
              "      <th></th>\n",
              "    </tr>\n",
              "  </thead>\n",
              "  <tbody>\n",
              "    <tr>\n",
              "      <th>285fae8412c4720a0c79d95f98434422</th>\n",
              "      <td>0</td>\n",
              "      <td>27734.30</td>\n",
              "      <td>24381.32</td>\n",
              "      <td>22000.0</td>\n",
              "      <td>33009.9</td>\n",
              "      <td>25669.97</td>\n",
              "      <td>1716.0</td>\n",
              "      <td>2145.0</td>\n",
              "      <td>0.0</td>\n",
              "      <td>792.0</td>\n",
              "      <td>11000.0</td>\n",
              "      <td>15</td>\n",
              "      <td>776</td>\n",
              "      <td>0</td>\n",
              "    </tr>\n",
              "    <tr>\n",
              "      <th>f45bce87ca6bf100f222fcc0db06b624</th>\n",
              "      <td>0</td>\n",
              "      <td>26433.00</td>\n",
              "      <td>26515.50</td>\n",
              "      <td>0.0</td>\n",
              "      <td>0.0</td>\n",
              "      <td>0.00</td>\n",
              "      <td>0.0</td>\n",
              "      <td>15444.0</td>\n",
              "      <td>0.0</td>\n",
              "      <td>0.0</td>\n",
              "      <td>74151.0</td>\n",
              "      <td>13</td>\n",
              "      <td>352</td>\n",
              "      <td>0</td>\n",
              "    </tr>\n",
              "    <tr>\n",
              "      <th>09b54557b1e2a10d998e3473a9ccd2a0</th>\n",
              "      <td>0</td>\n",
              "      <td>93212.17</td>\n",
              "      <td>67101.83</td>\n",
              "      <td>0.0</td>\n",
              "      <td>0.0</td>\n",
              "      <td>0.00</td>\n",
              "      <td>86795.5</td>\n",
              "      <td>94649.5</td>\n",
              "      <td>330.0</td>\n",
              "      <td>1485.0</td>\n",
              "      <td>27467.0</td>\n",
              "      <td>15</td>\n",
              "      <td>1987</td>\n",
              "      <td>0</td>\n",
              "    </tr>\n",
              "    <tr>\n",
              "      <th>11f252f48be36f93dd429f2ec86cb2f5</th>\n",
              "      <td>0</td>\n",
              "      <td>183.33</td>\n",
              "      <td>1087.17</td>\n",
              "      <td>0.0</td>\n",
              "      <td>0.0</td>\n",
              "      <td>0.00</td>\n",
              "      <td>0.0</td>\n",
              "      <td>0.0</td>\n",
              "      <td>0.0</td>\n",
              "      <td>0.0</td>\n",
              "      <td>0.0</td>\n",
              "      <td>2</td>\n",
              "      <td>285</td>\n",
              "      <td>0</td>\n",
              "    </tr>\n",
              "    <tr>\n",
              "      <th>a8df29ae9195eea348d2f74c967b978d</th>\n",
              "      <td>0</td>\n",
              "      <td>95296.67</td>\n",
              "      <td>76246.50</td>\n",
              "      <td>0.0</td>\n",
              "      <td>0.0</td>\n",
              "      <td>11000.00</td>\n",
              "      <td>118800.0</td>\n",
              "      <td>104940.0</td>\n",
              "      <td>0.0</td>\n",
              "      <td>0.0</td>\n",
              "      <td>63855.0</td>\n",
              "      <td>15</td>\n",
              "      <td>1081</td>\n",
              "      <td>0</td>\n",
              "    </tr>\n",
              "    <tr>\n",
              "      <th>...</th>\n",
              "      <td>...</td>\n",
              "      <td>...</td>\n",
              "      <td>...</td>\n",
              "      <td>...</td>\n",
              "      <td>...</td>\n",
              "      <td>...</td>\n",
              "      <td>...</td>\n",
              "      <td>...</td>\n",
              "      <td>...</td>\n",
              "      <td>...</td>\n",
              "      <td>...</td>\n",
              "      <td>...</td>\n",
              "      <td>...</td>\n",
              "      <td>...</td>\n",
              "    </tr>\n",
              "    <tr>\n",
              "      <th>9e8b318d96caa9c0c4a50e8e59f5026c</th>\n",
              "      <td>1</td>\n",
              "      <td>1634.33</td>\n",
              "      <td>12085.33</td>\n",
              "      <td>0.0</td>\n",
              "      <td>0.0</td>\n",
              "      <td>0.00</td>\n",
              "      <td>0.0</td>\n",
              "      <td>0.0</td>\n",
              "      <td>0.0</td>\n",
              "      <td>0.0</td>\n",
              "      <td>0.0</td>\n",
              "      <td>1</td>\n",
              "      <td>490</td>\n",
              "      <td>1</td>\n",
              "    </tr>\n",
              "    <tr>\n",
              "      <th>a310627191bdbded3905ac73e77fe319</th>\n",
              "      <td>1</td>\n",
              "      <td>30000.33</td>\n",
              "      <td>45170.67</td>\n",
              "      <td>0.0</td>\n",
              "      <td>0.0</td>\n",
              "      <td>0.00</td>\n",
              "      <td>0.0</td>\n",
              "      <td>20001.0</td>\n",
              "      <td>0.0</td>\n",
              "      <td>0.0</td>\n",
              "      <td>0.0</td>\n",
              "      <td>1</td>\n",
              "      <td>3120</td>\n",
              "      <td>1</td>\n",
              "    </tr>\n",
              "    <tr>\n",
              "      <th>b6f11059e5c1df69b8c16d5c39af23dc</th>\n",
              "      <td>1</td>\n",
              "      <td>3333.33</td>\n",
              "      <td>13338.67</td>\n",
              "      <td>0.0</td>\n",
              "      <td>0.0</td>\n",
              "      <td>872.00</td>\n",
              "      <td>0.0</td>\n",
              "      <td>0.0</td>\n",
              "      <td>0.0</td>\n",
              "      <td>0.0</td>\n",
              "      <td>0.0</td>\n",
              "      <td>1</td>\n",
              "      <td>483</td>\n",
              "      <td>1</td>\n",
              "    </tr>\n",
              "    <tr>\n",
              "      <th>88709f1defd232243f729912be696f87</th>\n",
              "      <td>1</td>\n",
              "      <td>25000.00</td>\n",
              "      <td>33333.33</td>\n",
              "      <td>0.0</td>\n",
              "      <td>0.0</td>\n",
              "      <td>23497.33</td>\n",
              "      <td>0.0</td>\n",
              "      <td>0.0</td>\n",
              "      <td>0.0</td>\n",
              "      <td>0.0</td>\n",
              "      <td>0.0</td>\n",
              "      <td>15</td>\n",
              "      <td>786</td>\n",
              "      <td>1</td>\n",
              "    </tr>\n",
              "    <tr>\n",
              "      <th>2c5bc32bc9a9c393d393bfc11c409b0d</th>\n",
              "      <td>2</td>\n",
              "      <td>0.00</td>\n",
              "      <td>11084.00</td>\n",
              "      <td>0.0</td>\n",
              "      <td>0.0</td>\n",
              "      <td>0.00</td>\n",
              "      <td>0.0</td>\n",
              "      <td>0.0</td>\n",
              "      <td>0.0</td>\n",
              "      <td>0.0</td>\n",
              "      <td>0.0</td>\n",
              "      <td>1</td>\n",
              "      <td>222</td>\n",
              "      <td>1</td>\n",
              "    </tr>\n",
              "  </tbody>\n",
              "</table>\n",
              "<p>10000 rows × 14 columns</p>\n",
              "</div>\n",
              "      <button class=\"colab-df-convert\" onclick=\"convertToInteractive('df-e6d1a124-eacd-4f17-abdc-67f3cce9ba18')\"\n",
              "              title=\"Convert this dataframe to an interactive table.\"\n",
              "              style=\"display:none;\">\n",
              "        \n",
              "  <svg xmlns=\"http://www.w3.org/2000/svg\" height=\"24px\"viewBox=\"0 0 24 24\"\n",
              "       width=\"24px\">\n",
              "    <path d=\"M0 0h24v24H0V0z\" fill=\"none\"/>\n",
              "    <path d=\"M18.56 5.44l.94 2.06.94-2.06 2.06-.94-2.06-.94-.94-2.06-.94 2.06-2.06.94zm-11 1L8.5 8.5l.94-2.06 2.06-.94-2.06-.94L8.5 2.5l-.94 2.06-2.06.94zm10 10l.94 2.06.94-2.06 2.06-.94-2.06-.94-.94-2.06-.94 2.06-2.06.94z\"/><path d=\"M17.41 7.96l-1.37-1.37c-.4-.4-.92-.59-1.43-.59-.52 0-1.04.2-1.43.59L10.3 9.45l-7.72 7.72c-.78.78-.78 2.05 0 2.83L4 21.41c.39.39.9.59 1.41.59.51 0 1.02-.2 1.41-.59l7.78-7.78 2.81-2.81c.8-.78.8-2.07 0-2.86zM5.41 20L4 18.59l7.72-7.72 1.47 1.35L5.41 20z\"/>\n",
              "  </svg>\n",
              "      </button>\n",
              "      \n",
              "  <style>\n",
              "    .colab-df-container {\n",
              "      display:flex;\n",
              "      flex-wrap:wrap;\n",
              "      gap: 12px;\n",
              "    }\n",
              "\n",
              "    .colab-df-convert {\n",
              "      background-color: #E8F0FE;\n",
              "      border: none;\n",
              "      border-radius: 50%;\n",
              "      cursor: pointer;\n",
              "      display: none;\n",
              "      fill: #1967D2;\n",
              "      height: 32px;\n",
              "      padding: 0 0 0 0;\n",
              "      width: 32px;\n",
              "    }\n",
              "\n",
              "    .colab-df-convert:hover {\n",
              "      background-color: #E2EBFA;\n",
              "      box-shadow: 0px 1px 2px rgba(60, 64, 67, 0.3), 0px 1px 3px 1px rgba(60, 64, 67, 0.15);\n",
              "      fill: #174EA6;\n",
              "    }\n",
              "\n",
              "    [theme=dark] .colab-df-convert {\n",
              "      background-color: #3B4455;\n",
              "      fill: #D2E3FC;\n",
              "    }\n",
              "\n",
              "    [theme=dark] .colab-df-convert:hover {\n",
              "      background-color: #434B5C;\n",
              "      box-shadow: 0px 1px 3px 1px rgba(0, 0, 0, 0.15);\n",
              "      filter: drop-shadow(0px 1px 2px rgba(0, 0, 0, 0.3));\n",
              "      fill: #FFFFFF;\n",
              "    }\n",
              "  </style>\n",
              "\n",
              "      <script>\n",
              "        const buttonEl =\n",
              "          document.querySelector('#df-e6d1a124-eacd-4f17-abdc-67f3cce9ba18 button.colab-df-convert');\n",
              "        buttonEl.style.display =\n",
              "          google.colab.kernel.accessAllowed ? 'block' : 'none';\n",
              "\n",
              "        async function convertToInteractive(key) {\n",
              "          const element = document.querySelector('#df-e6d1a124-eacd-4f17-abdc-67f3cce9ba18');\n",
              "          const dataTable =\n",
              "            await google.colab.kernel.invokeFunction('convertToInteractive',\n",
              "                                                     [key], {});\n",
              "          if (!dataTable) return;\n",
              "\n",
              "          const docLinkHtml = 'Like what you see? Visit the ' +\n",
              "            '<a target=\"_blank\" href=https://colab.research.google.com/notebooks/data_table.ipynb>data table notebook</a>'\n",
              "            + ' to learn more about interactive tables.';\n",
              "          element.innerHTML = '';\n",
              "          dataTable['output_type'] = 'display_data';\n",
              "          await google.colab.output.renderOutput(dataTable, element);\n",
              "          const docLink = document.createElement('div');\n",
              "          docLink.innerHTML = docLinkHtml;\n",
              "          element.appendChild(docLink);\n",
              "        }\n",
              "      </script>\n",
              "    </div>\n",
              "  </div>\n",
              "  "
            ]
          },
          "metadata": {},
          "execution_count": 3
        }
      ]
    },
    {
      "cell_type": "markdown",
      "source": [
        "**3. DATA EKSPLORASI**"
      ],
      "metadata": {
        "id": "a-bbRGQPVXS8"
      }
    },
    {
      "cell_type": "markdown",
      "source": [
        "**Feature set**\n",
        "\n",
        "Selanjutnya, kita format dataset, yaitu bentuk feature sets (kumpulan atribut), kita bentuk variabel X dan Y\n",
        "Untuk menggunakan library scikit-learn library, kita harus convert format data frame-nya Panda, ke array Numpy :"
      ],
      "metadata": {
        "id": "lkRvH6WiEXOY"
      }
    },
    {
      "cell_type": "code",
      "source": [
        "df.keys()"
      ],
      "metadata": {
        "colab": {
          "base_uri": "https://localhost:8080/"
        },
        "id": "UNobyIwPxO-7",
        "outputId": "e18d8e4d-bfbb-44fc-9253-570ab62e2812"
      },
      "execution_count": 4,
      "outputs": [
        {
          "output_type": "execute_result",
          "data": {
            "text/plain": [
              "Index(['product', 'reload_1', 'reload_2', 'video', 'music', 'games', 'chat_1',\n",
              "       'chat_2', 'socmed_1', 'socmed_2', 'internet', 'days_active', 'tenure',\n",
              "       'churn'],\n",
              "      dtype='object')"
            ]
          },
          "metadata": {},
          "execution_count": 4
        }
      ]
    },
    {
      "cell_type": "code",
      "source": [
        "# atribut predictor\n",
        "X = df[['product', 'reload_1', 'reload_2', 'video', 'music', 'games', 'chat_1',\n",
        "       'chat_2', 'socmed_1', 'socmed_2', 'internet', 'days_active', 'tenure']]"
      ],
      "metadata": {
        "id": "XDD89kW-QT0E"
      },
      "execution_count": 5,
      "outputs": []
    },
    {
      "cell_type": "code",
      "source": [
        "# atribut target\n",
        "Y = df['churn'].values\n",
        "Y"
      ],
      "metadata": {
        "id": "-Xqpy5EFkyNw",
        "colab": {
          "base_uri": "https://localhost:8080/"
        },
        "outputId": "adab8af8-ab77-4a77-82ec-1970f2d4d1f2"
      },
      "execution_count": 6,
      "outputs": [
        {
          "output_type": "execute_result",
          "data": {
            "text/plain": [
              "array([0, 0, 0, ..., 1, 1, 1])"
            ]
          },
          "metadata": {},
          "execution_count": 6
        }
      ]
    },
    {
      "cell_type": "markdown",
      "source": [
        "**Normalisasi Data**\n",
        "\n",
        "K-NN merupakan metode yang didasarkan pada tingkat kedekatan antar-atribut. Oleh karena itu, sangat disarankan untuk melakukan normalisasi data agar perhitungan jarak menjadi lebih valid."
      ],
      "metadata": {
        "id": "2XN6lgsvpXyG"
      }
    },
    {
      "cell_type": "code",
      "source": [
        "X = preprocessing.StandardScaler().fit(X).transform(X.astype(int))"
      ],
      "metadata": {
        "id": "tXsiTrKLk5Lh"
      },
      "execution_count": 7,
      "outputs": []
    },
    {
      "cell_type": "markdown",
      "source": [
        "**Pembagian Data Training dan Testing**\n",
        "\n",
        "Untuk menghasilkan model yang baik, perlu dilakukan pengujian yang baik. Aturan umum yang berlaku adalah data training dan testing harus dipisahkan terlebih dahulu. Dengan kata lain tidak boleh menggunakan data yang sama untuk training dan testing. Kali ini kita membagi dataset dengan komposisi **sebesar 80% data training dan 20% data testing.**"
      ],
      "metadata": {
        "id": "d7l552xsphzR"
      }
    },
    {
      "cell_type": "code",
      "source": [
        "from sklearn.model_selection import train_test_split"
      ],
      "metadata": {
        "id": "7-N85OGh2uYm"
      },
      "execution_count": 8,
      "outputs": []
    },
    {
      "cell_type": "code",
      "source": [
        "X_train, X_test, Y_train, Y_test = train_test_split( X, Y, test_size=0.2, random_state=4)\n",
        "print ('Train set:', X_train.shape,  Y_train.shape)\n",
        "print ('Test set:', X_test.shape,  Y_test.shape)"
      ],
      "metadata": {
        "id": "eQnEIE6evbKo",
        "colab": {
          "base_uri": "https://localhost:8080/"
        },
        "outputId": "e519539f-7887-4b8f-f749-81a66bf35339"
      },
      "execution_count": 9,
      "outputs": [
        {
          "output_type": "stream",
          "name": "stdout",
          "text": [
            "Train set: (8000, 13) (8000,)\n",
            "Test set: (2000, 13) (2000,)\n"
          ]
        }
      ]
    },
    {
      "cell_type": "markdown",
      "source": [
        "**4. MODELLING**"
      ],
      "metadata": {
        "id": "i-DjFtIFVnrr"
      }
    },
    {
      "cell_type": "markdown",
      "source": [
        "**Klasifikasi K-nearest neighbor (K-NN)**"
      ],
      "metadata": {
        "id": "z9YZHZoVpu6a"
      }
    },
    {
      "cell_type": "markdown",
      "source": [
        "**Training**\n",
        "\n",
        "Pertama, tentukan nilai k. Kita akan coba dengan nikai k=7:"
      ],
      "metadata": {
        "id": "SGCFH3-dp8gr"
      }
    },
    {
      "cell_type": "code",
      "source": [
        "k = 7\n",
        "#Train Model and Predict  \n",
        "knn = KNeighborsClassifier(n_neighbors = k).fit(X_train,Y_train)\n",
        "knn"
      ],
      "metadata": {
        "id": "xx3_AaZWvnDt",
        "colab": {
          "base_uri": "https://localhost:8080/"
        },
        "outputId": "ef3ef004-470e-4c45-ef8b-cd3aff51ca1c"
      },
      "execution_count": 11,
      "outputs": [
        {
          "output_type": "execute_result",
          "data": {
            "text/plain": [
              "KNeighborsClassifier(n_neighbors=7)"
            ]
          },
          "metadata": {},
          "execution_count": 11
        }
      ]
    },
    {
      "cell_type": "markdown",
      "source": [
        "**5. EVALUASI**"
      ],
      "metadata": {
        "id": "nVqX8f_OVxtS"
      }
    },
    {
      "cell_type": "markdown",
      "source": [
        "**Predicting**\n",
        "\n",
        "Kita sudah dapat menggunakan **model** yang terbentuk **untuk memprediksikan data**"
      ],
      "metadata": {
        "id": "CcxEYEtYqBTc"
      }
    },
    {
      "cell_type": "code",
      "source": [
        "yhat = knn.predict(X_test)\n",
        "print(yhat)"
      ],
      "metadata": {
        "id": "vN8irEBJvnAI",
        "colab": {
          "base_uri": "https://localhost:8080/"
        },
        "outputId": "275d1c86-83cc-49c6-8c92-26b66494a349"
      },
      "execution_count": 12,
      "outputs": [
        {
          "output_type": "stream",
          "name": "stdout",
          "text": [
            "[0 1 0 ... 1 0 0]\n"
          ]
        }
      ]
    },
    {
      "cell_type": "markdown",
      "source": [
        "**Perhitungan Akurasi**\n",
        "\n",
        "Pada klasifikasi, **nilai akurasi klasifikasi** secara sederhana dapat dihitung dengan memperbandingkan kelas **hasil prediksi algoritma** dengan kelas sebenarnya / actual class."
      ],
      "metadata": {
        "id": "XTBtZfjLqLb5"
      }
    },
    {
      "cell_type": "code",
      "source": [
        "from sklearn import metrics\n",
        "print(\"Train set Accuracy Data Training: \", metrics.accuracy_score(Y_train, knn.predict(X_train))) #Evaluasi apakah AI berhasil training dengan baik\n",
        "print(\"Test set Accuracy Data Test: \", metrics.accuracy_score(Y_test, yhat)) #Evaluasi apakah AI berhasil memprediksi dengan benar/ mengukur kinerja model algoritma"
      ],
      "metadata": {
        "id": "WYLUYWqivm3U",
        "colab": {
          "base_uri": "https://localhost:8080/"
        },
        "outputId": "f35f7495-891a-4bd8-ab19-7b9fa791128c"
      },
      "execution_count": 14,
      "outputs": [
        {
          "output_type": "stream",
          "name": "stdout",
          "text": [
            "Train set Accuracy Data Training:  0.93475\n",
            "Test set Accuracy Data Test:  0.918\n"
          ]
        }
      ]
    },
    {
      "cell_type": "markdown",
      "source": [
        "**MENCARI NILAI TERBAIK**\n",
        "\n",
        "Performa dari model** K-NN sangat bergantung dengan nilai K**. Lalu bagaimana memilih nilai K yang terbaik? Jawabnya, kita harus lakukan pengujian.\n",
        "\n",
        "Kode berikut ini bertujuan untuk melakukan pengujian nilai k dari **k=1 s.d k=10.**"
      ],
      "metadata": {
        "id": "8bpolskTqcqP"
      }
    },
    {
      "cell_type": "code",
      "source": [
        "Ks = 7\n",
        "mean_acc = np.zeros((Ks-1))\n",
        "std_acc = np.zeros((Ks-1))\n",
        "ConfustionMx = [];\n",
        "for n in range(1,Ks):\n",
        "    \n",
        "  #Train Model and Predict  \n",
        "  neigh = KNeighborsClassifier(n_neighbors = n).fit(X_train,Y_train)\n",
        "  yhat=neigh.predict(X_test)\n",
        "  mean_acc[n-1] = metrics.accuracy_score(Y_test, yhat)\n",
        "\n",
        "    \n",
        "  std_acc[n-1]=np.std(yhat==Y_test)/np.sqrt(yhat.shape[0])\n",
        "\n",
        "mean_acc"
      ],
      "metadata": {
        "id": "75YCLt2BysWx",
        "colab": {
          "base_uri": "https://localhost:8080/"
        },
        "outputId": "49c3b407-c26f-47dd-83d9-7bae38757a8f"
      },
      "execution_count": 21,
      "outputs": [
        {
          "output_type": "execute_result",
          "data": {
            "text/plain": [
              "array([0.914 , 0.922 , 0.926 , 0.9265, 0.9215, 0.9215])"
            ]
          },
          "metadata": {},
          "execution_count": 21
        }
      ]
    },
    {
      "cell_type": "markdown",
      "source": [
        "**Lalu kita juga bisa menampilkan grafik / plot-nya untuk mempermudah pembacaan data maka dilakukan visualisasikan**"
      ],
      "metadata": {
        "id": "3qxfxb8_qrpX"
      }
    },
    {
      "cell_type": "code",
      "source": [
        "plt.plot(range(1,Ks),mean_acc,'g')\n",
        "plt.fill_between(range(1,Ks),mean_acc - 1 * std_acc,mean_acc + 1 * std_acc, alpha=0.10)\n",
        "plt.legend(('Accuracy ', '+/- 3xstd'))\n",
        "plt.ylabel('Accuracy ')\n",
        "plt.xlabel('Number of Nabors (K)')\n",
        "plt.tight_layout()\n",
        "plt.show()"
      ],
      "metadata": {
        "id": "mmJKsPCqy2mM",
        "colab": {
          "base_uri": "https://localhost:8080/",
          "height": 297
        },
        "outputId": "d16e5f57-a5d7-4743-ae56-16a11f3a9e2d"
      },
      "execution_count": 22,
      "outputs": [
        {
          "output_type": "display_data",
          "data": {
            "text/plain": [
              "<Figure size 432x288 with 1 Axes>"
            ],
            "image/png": "[encoded data removed]"
          },
          "metadata": {
            "needs_background": "light"
          }
        }
      ]
    },
    {
      "cell_type": "code",
      "source": [
        "print( \"The best accuracy was with\", mean_acc.max(), \"with k=\", mean_acc.argmax()+1)"
      ],
      "metadata": {
        "id": "QGxYganSy7SR",
        "colab": {
          "base_uri": "https://localhost:8080/"
        },
        "outputId": "14c91558-622b-43a4-abac-af9ebb72e1e7"
      },
      "execution_count": 23,
      "outputs": [
        {
          "output_type": "stream",
          "name": "stdout",
          "text": [
            "The best accuracy was with 0.9265 with k= 4\n"
          ]
        }
      ]
    },
    {
      "cell_type": "markdown",
      "source": [
        "# Tugas\n",
        "Lakukan pemodelan KNN dengan k terbaik yang sudah terpilih, lakukan prediksi dan hitung akurasinya"
      ],
      "metadata": {
        "id": "fxL-n0Ih3FTr"
      }
    },
    {
      "cell_type": "code",
      "source": [
        "k = mean_acc.argmax()+1\n",
        "#Train Model and Predict  \n",
        "knn = KNeighborsClassifier(n_neighbors = k).fit(X_train,Y_train)\n",
        "knn"
      ],
      "metadata": {
        "id": "8qOlylu1xuw8",
        "colab": {
          "base_uri": "https://localhost:8080/"
        },
        "outputId": "1ae5f1fa-2e2c-411b-cade-5402e0cc1615"
      },
      "execution_count": 24,
      "outputs": [
        {
          "output_type": "execute_result",
          "data": {
            "text/plain": [
              "KNeighborsClassifier(n_neighbors=4)"
            ]
          },
          "metadata": {},
          "execution_count": 24
        }
      ]
    },
    {
      "cell_type": "code",
      "source": [
        "yhat = knn.predict(X_test)\n",
        "print(yhat)"
      ],
      "metadata": {
        "colab": {
          "base_uri": "https://localhost:8080/"
        },
        "id": "cL2BiQrcZXcC",
        "outputId": "45a9b659-8d73-4208-b215-eb5423a74c71"
      },
      "execution_count": 25,
      "outputs": [
        {
          "output_type": "stream",
          "name": "stdout",
          "text": [
            "[0 1 0 ... 1 0 0]\n"
          ]
        }
      ]
    },
    {
      "cell_type": "code",
      "source": [
        "from sklearn import metrics\n",
        "print(\"Train set Accuracy Data Training: \", metrics.accuracy_score(Y_train, knn.predict(X_train))) #Evaluasi apakah AI berhasil training dengan baik\n",
        "print(\"Test set Accuracy Data Test: \", metrics.accuracy_score(Y_test, yhat)) #Evaluasi apakah AI berhasil memprediksi dengan benar/ mengukur kinerja model algoritma"
      ],
      "metadata": {
        "colab": {
          "base_uri": "https://localhost:8080/"
        },
        "id": "fEkn8FoAZpPx",
        "outputId": "4dabbf55-3ffa-4229-8e7b-b4bbcdf99439"
      },
      "execution_count": 26,
      "outputs": [
        {
          "output_type": "stream",
          "name": "stdout",
          "text": [
            "Train set Accuracy Data Training:  0.942375\n",
            "Test set Accuracy Data Test:  0.9265\n"
          ]
        }
      ]
    }
  ]
}