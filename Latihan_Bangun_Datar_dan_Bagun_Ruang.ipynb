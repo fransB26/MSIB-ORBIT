{
  "nbformat": 4,
  "nbformat_minor": 0,
  "metadata": {
    "colab": {
      "name": "Latihan Bangun Datar dan Bagun Ruang.ipynb",
      "provenance": [],
      "authorship_tag": "ABX9TyObkHzKYzTsUbyid4aQxSoS",
      "include_colab_link": true
    },
    "kernelspec": {
      "name": "python3",
      "display_name": "Python 3"
    },
    "language_info": {
      "name": "python"
    }
  },
  "cells": [
    {
      "cell_type": "markdown",
      "metadata": {
        "id": "view-in-github",
        "colab_type": "text"
      },
      "source": [
        "<a href=\"https://colab.research.google.com/github/fransB26/MSIB-ORBIT/blob/main/Latihan_Bangun_Datar_dan_Bagun_Ruang.ipynb\" target=\"_parent\"><img src=\"https://colab.research.google.com/assets/colab-badge.svg\" alt=\"Open In Colab\"/></a>"
      ]
    },
    {
      "cell_type": "markdown",
      "source": [
        "## EXERCISE 2 - RABU, 2 MARET 2022"
      ],
      "metadata": {
        "id": "LUakFlZ0sq2r"
      }
    },
    {
      "cell_type": "code",
      "source": [
        "print(23*\"==\")\n",
        "print(\"NAMA\\t\\t : BOY FRANSISKUS SITANGGANG\")\n",
        "print(\"NIM\\t\\t : 4193230018\")\n",
        "print(\"PT ASAL\\t\\t : UNIVERSITAS NEGERI MEDAN\")\n",
        "print(23*\"==\")"
      ],
      "metadata": {
        "colab": {
          "base_uri": "https://localhost:8080/"
        },
        "id": "g2zI6YGptNDK",
        "outputId": "54bc928e-6356-4600-e65c-6bd6c5ec5e9b"
      },
      "execution_count": null,
      "outputs": [
        {
          "output_type": "stream",
          "name": "stdout",
          "text": [
            "==============================================\n",
            "NAMA\t\t : BOY FRANSISKUS SITANGGANG\n",
            "NIM\t\t : 4193230018\n",
            "PT ASAL\t\t : UNIVERSITAS NEGERI MEDAN\n",
            "==============================================\n"
          ]
        }
      ]
    },
    {
      "cell_type": "markdown",
      "source": [
        "**MENGHITUNG LUAS DAN KELILING BANGUN DATAR**"
      ],
      "metadata": {
        "id": "SO_97glKvpuL"
      }
    },
    {
      "cell_type": "code",
      "source": [
        "#Persegi\n",
        "Sisi = int(input(\"Masukkan panjang sisi :\"))\n",
        "LuasPersegi = Sisi**2\n",
        "KelilingPersegi = 4*Sisi\n",
        "print(15*\"==\")\n",
        "print(\"Panjang Sisi \\t =\",Sisi,\"cm\")\n",
        "print(\"Luas Persegi \\t =\",LuasPersegi,\"cm^2\")\n",
        "print(\"Keliling Persegi =\",KelilingPersegi,\"cm\")"
      ],
      "metadata": {
        "colab": {
          "base_uri": "https://localhost:8080/"
        },
        "id": "k3_MXSsvtYdU",
        "outputId": "a4127934-3b37-4cb1-90c8-c26c93a9845c"
      },
      "execution_count": null,
      "outputs": [
        {
          "output_type": "stream",
          "name": "stdout",
          "text": [
            "Masukkan panjang sisi :4\n",
            "==============================\n",
            "Panjang Sisi \t = 4 cm\n",
            "Luas Persegi \t = 16 cm^2\n",
            "Keliling Persegi = 16 cm\n"
          ]
        }
      ]
    },
    {
      "cell_type": "code",
      "source": [
        "#Persegi Panjang\n",
        "Panjang = int(input(\"Masukkan panjang :\"))\n",
        "Lebar = int(input(\"Masukkan Lebar :\"))\n",
        "LuasPP = Panjang*Lebar\n",
        "KelilingPP = 2*(Panjang + Lebar)\n",
        "print(15*\"==\")\n",
        "print(\"Panjang \\t\\t = {}\".format(Panjang),\"cm \\nLebar \\t\\t\\t = {}\".format(Lebar),\"cm\")\n",
        "print(\"Luas Persegi Panjang \\t = {}\".format(LuasPP),\"cm^2\")\n",
        "print(\"Keliling Persegi Panjang = {}\".format(KelilingPP),\"cm\")"
      ],
      "metadata": {
        "colab": {
          "base_uri": "https://localhost:8080/"
        },
        "id": "yN8knPtFwPfU",
        "outputId": "e6b0e97f-0949-4d49-e71b-601ce7f41b99"
      },
      "execution_count": null,
      "outputs": [
        {
          "output_type": "stream",
          "name": "stdout",
          "text": [
            "Masukkan panjang :4\n",
            "Masukkan Lebar :4\n",
            "==============================\n",
            "Panjang \t\t = 4 cm \n",
            "Lebar \t\t\t = 4 cm\n",
            "Luas Persegi Panjang \t = 16 cm^2\n",
            "Keliling Persegi Panjang = 16 cm\n"
          ]
        }
      ]
    },
    {
      "cell_type": "code",
      "source": [
        "#Jajar Genjang\n",
        "Alas = int(input(\"Masukkan panjang Alas :\"))\n",
        "Tinggi = int(input(\"Masukkan tinggi :\"))\n",
        "SisiMiring = int(input(\"Masukkan panjang Sisi Miring :\"))\n",
        "LuasJG = Alas*Tinggi\n",
        "KelilingJG = 2*(Alas + SisiMiring)\n",
        "print(15*\"==\")\n",
        "print(f\"Alas \\t\\t\\t= {Alas} cm \\nTinggi \\t\\t\\t= {Tinggi} cm \\nSisi Miring \\t\\t= {SisiMiring} cm\")\n",
        "print(f\"Luas Jajar Genjang \\t= {LuasJG} cm^2 \\nKeliling Jajar Genjang  = {KelilingJG} cm\")"
      ],
      "metadata": {
        "colab": {
          "base_uri": "https://localhost:8080/"
        },
        "id": "OeqOF5eryDYY",
        "outputId": "47fd515b-316c-4a6b-d659-692f0963169f"
      },
      "execution_count": null,
      "outputs": [
        {
          "output_type": "stream",
          "name": "stdout",
          "text": [
            "Masukkan panjang Alas :5\n",
            "Masukkan tinggi :5\n",
            "Masukkan panjang Sisi Miring :25\n",
            "==============================\n",
            "Alas \t\t\t= 5 cm \n",
            "Tinggi \t\t\t= 5 cm \n",
            "Sisi Miring \t\t= 25 cm\n",
            "Luas Jajar Genjang \t= 25 cm^2 \n",
            "Keliling Jajar Genjang  = 60 cm\n"
          ]
        }
      ]
    },
    {
      "cell_type": "code",
      "source": [
        "#Trapesium\n",
        "SisiSejajar1 = a = int(input(\"Masukkan nilai a :\"))\n",
        "SisiSejajar2 = b = int(input(\"Masukkan nilai b :\"))\n",
        "SisiMiring1 = c = int(input(\"Masukkan nilai c :\"))\n",
        "SisiMiring2 = d = int(input(\"Masukkan nilai d :\"))\n",
        "Tinggi = t = int(input(\"Masukkan nilai t :\"))\n",
        "\n",
        "L_Trapesium = 1/2*(a+b)*t\n",
        "K_Trapesium = a + b + c +d\n",
        "\n",
        "print(15*\"==\")\n",
        "print(\"Sisi Sejajar 1 \\t\\t=\",a,\"cm \\nSisi Sejajar 2 \\t\\t=\",b,\"cm \\nSisi Miring 1 \\t\\t=\",c,\"cm \\nSisi Miring 2 \\t\\t=\",d,\"cm \\nTinggi \\t\\t\\t=\",t,\"cm\")\n",
        "print(\"Luas Trapesium \\t\\t=\",L_Trapesium,\"cm^2 \\nKeliling Trapesium \\t=\",K_Trapesium,\"cm\")"
      ],
      "metadata": {
        "colab": {
          "base_uri": "https://localhost:8080/"
        },
        "id": "CnRUxtnP1QJU",
        "outputId": "bd630b5d-a00e-4e72-f917-49f8e6196254"
      },
      "execution_count": null,
      "outputs": [
        {
          "output_type": "stream",
          "name": "stdout",
          "text": [
            "Masukkan nilai a :2\n",
            "Masukkan nilai b :4\n",
            "Masukkan nilai c :3\n",
            "Masukkan nilai d :3\n",
            "Masukkan nilai t :3\n",
            "==============================\n",
            "Sisi Sejajar 1 \t\t= 2 cm \n",
            "Sisi Sejajar 2 \t\t= 4 cm \n",
            "Sisi Miring 1 \t\t= 3 cm \n",
            "Sisi Miring 2 \t\t= 3 cm \n",
            "Tinggi \t\t\t= 3 cm\n",
            "Luas Trapesium \t\t= 9.0 cm^2 \n",
            "Keliling Trapesium \t= 12 cm\n"
          ]
        }
      ]
    },
    {
      "cell_type": "code",
      "source": [
        "#Layang-Layang\n",
        "Sisi1 = int(input(\"Masukkan panjang sisi 1 :\"))\n",
        "Sisi2 = int(input(\"Masukkan panjang sisi 2 :\"))\n",
        "Diagonal1 = int(input(\"Masukkan panjang diagonal 1 :\"))\n",
        "Diagonal2 = int(input(\"Masukkan panjang diagonal 2 :\"))\n",
        "\n",
        "Luas = 1/2 * Diagonal1 * Diagonal2\n",
        "Keliling = 2*(Sisi1 + Sisi2)\n",
        "\n",
        "print(15*\"==\")\n",
        "print(f\"Panjang Sisi 1 \\t\\t= {Sisi1} cm \\nPanjang Sisi 2 \\t\\t= {Sisi2} cm \\nPanjang Diagonal 1 \\t= {Diagonal1} cm \\nPanjang Diagonal 2 \\t= {Diagonal2} cm\")\n",
        "print(f\"Luas Layang Layang \\t= {Luas} cm^2 \\nKeliling Layang Layang \\t= {Keliling} cm\")"
      ],
      "metadata": {
        "colab": {
          "base_uri": "https://localhost:8080/"
        },
        "id": "sttLYZYX5L3c",
        "outputId": "b3114d59-d35c-4837-9435-ac5397b81697"
      },
      "execution_count": null,
      "outputs": [
        {
          "output_type": "stream",
          "name": "stdout",
          "text": [
            "Masukkan panjang sisi 1 :3\n",
            "Masukkan panjang sisi 2 :5\n",
            "Masukkan panjang diagonal 1 :4\n",
            "Masukkan panjang diagonal 2 :6\n",
            "==============================\n",
            "Panjang Sisi 1 \t\t= 3 cm \n",
            "Panjang Sisi 2 \t\t= 5 cm \n",
            "Panjang Diagonal 1 \t= 4 cm \n",
            "Panjang Diagonal 2 \t= 6 cm\n",
            "Luas Layang Layang \t= 12.0 cm^2 \n",
            "Keliling Layang Layang \t= 16 cm\n"
          ]
        }
      ]
    },
    {
      "cell_type": "code",
      "source": [
        "#Belah Ketupat\n",
        "Sisi = int(input(\"Masukkan panjang sisi  :\"))\n",
        "Diagonal1 = int(input(\"Masukkan panjang diagonal 1 :\"))\n",
        "Diagonal2 = int(input(\"Masukkan panjang diagonal 2 :\"))\n",
        "\n",
        "Luas = 1/2 * Diagonal1 * Diagonal2\n",
        "Keliling = 4*Sisi\n",
        "\n",
        "print(15*\"==\")\n",
        "print(f\"Panjang Sisi \\t\\t= {Sisi} cm \\nPanjang Diagonal 1 \\t= {Diagonal1} cm \\nPanjang Diagonal 2 \\t= {Diagonal2} cm\")\n",
        "print(f\"Luas Belah Ketupat \\t= {Luas} cm^2 \\nKeliling Belah Ketupat \\t= {Keliling} cm\")"
      ],
      "metadata": {
        "colab": {
          "base_uri": "https://localhost:8080/"
        },
        "id": "U9VcMuIo-5Zx",
        "outputId": "104b3e1d-8f6f-41f6-d346-fdc97a97f087"
      },
      "execution_count": null,
      "outputs": [
        {
          "output_type": "stream",
          "name": "stdout",
          "text": [
            "Masukkan panjang sisi  :5\n",
            "Masukkan panjang diagonal 1 :3\n",
            "Masukkan panjang diagonal 2 :1\n",
            "==============================\n",
            "Panjang Sisi \t\t= 5 cm \n",
            "Panjang Diagonal 1 \t= 3 cm \n",
            "Panjang Diagonal 2 \t= 1 cm\n",
            "Luas Belah Ketupat \t= 1.5 cm^2 \n",
            "Keliling Belah Ketupat \t= 20 cm\n"
          ]
        }
      ]
    },
    {
      "cell_type": "code",
      "source": [
        "#Lingkaran\n",
        "phi = float(input(\"Masukkan nilai phi =\"))\n",
        "JariJari = float(input(\"Masukkan panjang Jari-Jari =\"))\n",
        "\n",
        "LuasLingkaran = phi*JariJari\n",
        "KelilingLingkaran = 2*phi*JariJari\n",
        "\n",
        "print(15*\"==\")\n",
        "print(\"phi \\t\\t\\t=\",phi,\"\\nJari Jari Lingkaran \\t=\",JariJari)\n",
        "print(\"Luas Lingkaran \\t\\t=\",LuasLingkaran,\"\\nKeliling Lingkaran \\t=\",KelilingLingkaran)"
      ],
      "metadata": {
        "colab": {
          "base_uri": "https://localhost:8080/"
        },
        "id": "TntEI_DDBr6C",
        "outputId": "addf6b0c-65df-4545-f0e5-69e465621574"
      },
      "execution_count": null,
      "outputs": [
        {
          "output_type": "stream",
          "name": "stdout",
          "text": [
            "Masukkan nilai phi =3.14\n",
            "Masukkan panjang Jari-Jari =4\n",
            "==============================\n",
            "phi \t\t\t= 3.14 \n",
            "Jari Jari Lingkaran \t= 4.0\n",
            "Luas Lingkaran \t\t= 12.56 \n",
            "Keliling Lingkaran \t= 25.12\n"
          ]
        }
      ]
    },
    {
      "cell_type": "code",
      "source": [
        "#Segitiga\n",
        "AlasSegitiga = int(input(\"Masukkan panjang alas segitiga :\"))\n",
        "TinggiSegitiga = int(input(\"Masukkan tinggi segitiga :\"))\n",
        "SisiMiring = c = int(input(\"Masukkan panjang sisi miring :\"))\n",
        "\n",
        "LuasSegitiga = 1/2*AlasSegitiga*TinggiSegitiga\n",
        "KelilingSegitiga = AlasSegitiga + TinggiSegitiga + SisiMiring\n",
        "\n",
        "print(15*\"==\")\n",
        "print(\"Luas Segitiga \\t\\t=\",LuasSegitiga,\"cm^2\")\n",
        "print(\"Keliling Segitiga \\t=\",KelilingSegitiga,\"cm\")"
      ],
      "metadata": {
        "colab": {
          "base_uri": "https://localhost:8080/"
        },
        "id": "bsOhgvOzIux9",
        "outputId": "0c488152-be1b-4217-b7e8-3b6e4e766884"
      },
      "execution_count": null,
      "outputs": [
        {
          "output_type": "stream",
          "name": "stdout",
          "text": [
            "Masukkan panjang alas segitiga :3\n",
            "Masukkan tinggi segitiga :4\n",
            "Masukkan panjang sisi miring :5\n",
            "==============================\n",
            "Luas Segitiga \t\t= 6.0 cm^2\n",
            "Keliling Segitiga \t= 12 cm\n"
          ]
        }
      ]
    },
    {
      "cell_type": "markdown",
      "source": [
        "**MENGHITUNG VOLUME DAN KELILING BANGUN RUANG**"
      ],
      "metadata": {
        "id": "0VI_hoz9MCqA"
      }
    },
    {
      "cell_type": "code",
      "source": [
        "#Kubus\n",
        "\n",
        "PanjangRusuk = int(input(\"Masukkan Panjang Rusuk :\"))\n",
        "\n",
        "LuasKubus = 6*PanjangRusuk**2\n",
        "VolumeKubus = PanjangRusuk**3\n",
        "\n",
        "print(15*\"==\")\n",
        "print(\"Panjang Rusuk \\t=\",PanjangRusuk,\"cm\")\n",
        "print(\"Luas Kubus \\t=\",LuasKubus,\"cm^2 \\nVolume Kubus \\t=\",VolumeKubus,\"cm^3\")"
      ],
      "metadata": {
        "colab": {
          "base_uri": "https://localhost:8080/"
        },
        "id": "y2G1n7R-KkYR",
        "outputId": "e7aa19ce-77a8-4dce-8b96-a2a34d1cef64"
      },
      "execution_count": null,
      "outputs": [
        {
          "output_type": "stream",
          "name": "stdout",
          "text": [
            "Masukkan Panjang Rusuk :7\n",
            "==============================\n",
            "Panjang Rusuk \t= 7 cm\n",
            "Luas Kubus \t= 294 cm^2 \n",
            "Volume Kubus \t= 343 cm^3\n"
          ]
        }
      ]
    },
    {
      "cell_type": "code",
      "source": [
        "#Balok\n",
        "Panjang = p = int(input(\"Masukkan panjang balok :\"))\n",
        "Lebar = l = int(input(\"Masukkan lebar balok :\"))\n",
        "Tinggi = t = int(input(\"Masukkan tinggi balok :\"))\n",
        "\n",
        "LuasBalok = 2*(p*l + p*t + l*t)\n",
        "VolumeBalok = p*l*t\n",
        "\n",
        "print(15*\"==\")\n",
        "print(\"Panjang Balok \\t=\",Panjang,\"cm \\nLebar Balok \\t=\",Lebar,\"cm \\nTinggi Balok \\t=\",Tinggi,\"cm\")\n",
        "print(\"Luas Balok \\t=\",LuasBalok,\"cm^2\")\n",
        "print(\"Volume Balok \\t=\",VolumeBalok,\"cm^3\")"
      ],
      "metadata": {
        "colab": {
          "base_uri": "https://localhost:8080/"
        },
        "id": "j-hqaUFANP8o",
        "outputId": "fe973a85-b000-438e-c2ab-223da57bd0c5"
      },
      "execution_count": null,
      "outputs": [
        {
          "output_type": "stream",
          "name": "stdout",
          "text": [
            "Masukkan panjang balok :2\n",
            "Masukkan lebar balok :3\n",
            "Masukkan tinggi balok :1\n",
            "==============================\n",
            "Panjang Balok \t= 2 cm \n",
            "Lebar Balok \t= 3 cm \n",
            "Tinggi Balok \t= 1 cm\n",
            "Luas Balok \t= 22 cm^2\n",
            "Volume Balok \t= 6 cm^3\n"
          ]
        }
      ]
    },
    {
      "cell_type": "code",
      "source": [
        "#Prisma Segitiga\n",
        "PanjangAlas = a = int(input(\"Masukkan Panjang Alas :\"))\n",
        "TinggiPrisma = int(input(\"Masukkan Tinggi Prisma :\"))\n",
        "SisiMiringAlas = c = int(input(\"Masukkan Sisi Miring :\"))\n",
        "TinggiAlas = b = c**2 - a**2\n",
        "LuasAlas = 1/2*(a*b)\n",
        "KelilingAlas = a + b + c\n",
        "LuasPrisma = 2*LuasAlas + KelilingAlas*TinggiPrisma\n",
        "VolumePrisma = LuasAlas*TinggiPrisma\n",
        "\n",
        "print(\"Luas Permukaan Prisma =\",LuasPrisma)\n",
        "print(\"Volume Prisma =\", VolumePrisma)"
      ],
      "metadata": {
        "colab": {
          "base_uri": "https://localhost:8080/"
        },
        "id": "xVxadKeyPPJS",
        "outputId": "63a7db70-aaf2-4ed1-bdea-dcae0d0db009"
      },
      "execution_count": null,
      "outputs": [
        {
          "output_type": "stream",
          "name": "stdout",
          "text": [
            "Masukkan Panjang Alas :3\n",
            "Masukkan Tinggi Prisma :5\n",
            "Masukkan Sisi Miring :8\n",
            "Luas Permukaan Prisma = 495.0\n",
            "Volume Prisma = 412.5\n"
          ]
        }
      ]
    },
    {
      "cell_type": "code",
      "source": [
        "#Limas Segiempat\n",
        "PanjangAlas = int(input(\"Masukkan Panjang ALas Limas :\"))\n",
        "LebarAlas = int(input(\"Masukkan Lebar Alas Limas :\"))\n",
        "Tinggi = int(input(\"Masukkan Tinggi Limas :\"))\n",
        "\n",
        "TinggiSegitiga = ((Tinggi**2) + (1/2*PanjangAlas)**2)**(1/2)\n",
        "LuasSegitiga = 1/2*PanjangAlas * TinggiSegitiga\n",
        "LuasSeluruhSisiMiring = a = 4*LuasSegitiga\n",
        "LuasAlas = PanjangAlas * LebarAlas\n",
        "LuasLimas = LuasAlas + a\n",
        "VolumeLimas = 1/3*LuasAlas*Tinggi\n",
        "\n",
        "print(\"Luas Permukaan Limas =\", LuasLimas)\n",
        "print(\"Volume Limas\",VolumeLimas)"
      ],
      "metadata": {
        "colab": {
          "base_uri": "https://localhost:8080/"
        },
        "id": "SIsv3NKVWSlZ",
        "outputId": "2ed8b71b-aada-475e-a3c9-a31413d5c828"
      },
      "execution_count": null,
      "outputs": [
        {
          "output_type": "stream",
          "name": "stdout",
          "text": [
            "Masukkan Panjang ALas Limas :10\n",
            "Masukkan Lebar Alas Limas :10\n",
            "Masukkan Tinggi Limas :12\n",
            "Luas Permukaan Limas = 360.0\n",
            "Volume Limas 399.99999999999994\n",
            "13.0\n"
          ]
        }
      ]
    },
    {
      "cell_type": "code",
      "source": [
        "#Tabung\n",
        "Jari_Jari_Tabung = r = float(input(\"Masukkan jari-jari tabung :\"))\n",
        "Tinggu_Tabung = t = int(input(\"Masukkan tinggi tabung :\"))\n",
        "phi = 3.14\n",
        "\n",
        "LuasTabung = 2*phi*r*(t+r)\n",
        "VolumeTabung = phi*(r**2)*t\n",
        "\n",
        "print(\"Luas Tabung =\",LuasTabung)\n",
        "print(\"Volume Tabung =\",VolumeTabung)"
      ],
      "metadata": {
        "colab": {
          "base_uri": "https://localhost:8080/"
        },
        "id": "7xNW3rguaJ9t",
        "outputId": "f937784c-8c99-4a1e-8131-4d52c48d9f05"
      },
      "execution_count": null,
      "outputs": [
        {
          "output_type": "stream",
          "name": "stdout",
          "text": [
            "Masukkan jari-jari tabung :2\n",
            "Masukkan tinggi tabung :6\n",
            "Luas Tabung = 100.48\n",
            "Volume Tabung = 75.36\n"
          ]
        }
      ]
    },
    {
      "cell_type": "code",
      "source": [
        "#Kerucut\n",
        "Jari_Jari_Kerucut = r = float(input(\"Masukkan Jari Jari Kerucut :\"))\n",
        "TinggiKerucut = t = float(input(\"Masukkan Tinggi Kerucut :\"))\n",
        "GarisPelukis = s = (r**2 + t**2)**(1/2)\n",
        "phi = 3.14\n",
        "\n",
        "LuasKerucut = phi*r*(r+s)\n",
        "VolumeKerucut = 1/3*(phi*r**2*t)\n",
        "\n",
        "print(\"Luas Kerucut =\",LuasKerucut)\n",
        "print(\"Volume Kerucut =\",VolumeKerucut)"
      ],
      "metadata": {
        "colab": {
          "base_uri": "https://localhost:8080/"
        },
        "id": "tCjlLAn4ccRI",
        "outputId": "68eb53dd-9ccb-4539-8d85-3e1b4b58d77f"
      },
      "execution_count": null,
      "outputs": [
        {
          "output_type": "stream",
          "name": "stdout",
          "text": [
            "Masukkan Jari Jari Kerucut :6\n",
            "Masukkan Tinggi Kerucut :12\n",
            "Luas Kerucut = 365.8051241765762\n",
            "Volume Kerucut = 452.15999999999997\n"
          ]
        }
      ]
    },
    {
      "cell_type": "code",
      "source": [
        "#Bola\n",
        "Jari_Jari_Bola = float(input(\"Masukkan jari-jari bola =\"))\n",
        "phi = float(input(\"Masukkan nilai phi = \"))\n",
        "\n",
        "LuasBola = 4*phi*Jari_Jari_Bola**2\n",
        "VolumeBola = 4/3*(phi*Jari_Jari_Bola**3)\n",
        "\n",
        "print(\"Luas Bola =\",LuasBola)\n",
        "print(\"Volume Bola =\", VolumeBola)"
      ],
      "metadata": {
        "colab": {
          "base_uri": "https://localhost:8080/"
        },
        "id": "zzsMo19yd_RN",
        "outputId": "f1c1c71a-5d3a-44ed-f74a-5e15882a8102"
      },
      "execution_count": null,
      "outputs": [
        {
          "output_type": "stream",
          "name": "stdout",
          "text": [
            "Masukkan jari-jari bola =3\n",
            "Masukkan nilai phi = 3.14\n",
            "Luas Bola = 113.04\n",
            "Volume Bola = 113.03999999999999\n"
          ]
        }
      ]
    },
    {
      "cell_type": "code",
      "source": [
        ""
      ],
      "metadata": {
        "id": "QnKrw5WhfX66"
      },
      "execution_count": null,
      "outputs": []
    }
  ]
}